{
 "cells": [
  {
   "cell_type": "markdown",
   "metadata": {},
   "source": [
    "# 时域中的离散时间信号\n",
    "数字信号处理是处理一种称之为输入信号的离散时间信号,以产生另一种称之为输出信号的离散时间信号,这种输出信号具有更多人们所需要的性质.在某些应用中,需要使用特定的数字信号处理算法来提取原信号的一些重要性质.通过观察系统对给定输入信号的输出信号,还可以研究离散时间系统的特性.\n",
    "\n",
    "因此,我们首先要学会用Python在时域中产生一些基本的离散时间信号,并对这些信号进行一些基本的运算.其次,学会使用基本的Python命令,并将它们应用到简单的数字信号处理问题中.\n",
    "\n",
    "## 基础知识回顾\n",
    "### 离散时间信号\n",
    "离散时间信号由样本构成的数字序列来表示.典型的离散时间信号或者序列表示为\n",
    "$$\n",
    "\\{x[n]\\}\n",
    "$$\n",
    "其中$x[n]$为样本值,$n$为样本的序号(整数),取值范围为$-\\infty\\sim \\infty$.\n",
    "\n",
    "一般,我们为了简便起见,将外面的花括号去掉."
   ]
  },
  {
   "cell_type": "code",
   "execution_count": 41,
   "metadata": {},
   "outputs": [
    {
     "name": "stdout",
     "output_type": "stream",
     "text": [
      "[1, 2, -1, -4]\n"
     ]
    },
    {
     "data": {
      "image/png": "[encoded data removed]",
      "text/plain": [
       "<Figure size 432x288 with 1 Axes>"
      ]
     },
     "metadata": {
      "needs_background": "light"
     },
     "output_type": "display_data"
    }
   ],
   "source": [
    "# 产生一个样本序列$x[n] = \\{1,2,-1,-4\\}$\n",
    "import matplotlib.pyplot as plt\n",
    "import numpy as np\n",
    "\n",
    "n = np.linspace(0,3,4) # 定义序号\n",
    "xn = [1,2,-1,-4] # 定义序列\n",
    "plt.stem(n,xn)   # 画出序列图形\n",
    "\n",
    "print(xn)      # 显示序列"
   ]
  },
  {
   "cell_type": "markdown",
   "metadata": {},
   "source": [
    "### 序列的能量和平均功率\n",
    "序列$x[n]$的能量定义为\n",
    "$$\n",
    "        \\mathcal{E} = \\sum_{n=-\\infty}^\\infty |x[n]|^2\n",
    "$$\n",
    "有限长度序列的能量定义为\n",
    "$$\n",
    "        \\mathcal{E}_K = \\sum_{n=-K}^K |x[n]|^2\n",
    "$$\n",
    "\n",
    "非周期信号$x[n]$的平均功率定义为\n",
    "$$\n",
    "    \\mathcal{P}_{av} = \\lim_{K\\to \\infty} \\frac{1}{2K+1} \\mathcal{E}_K = \\lim_{K\\to \\infty} \\frac{1}{2K+1} \\sum_{n=-K}^K |x[n]|^2\n",
    "$$\n",
    "周期信号$\\tilde{x}[n]$的平均功率为\n",
    "$$\n",
    "\\mathcal{P}_{av} = \\frac{1}{N} \\sum_{n=0}^{N-1}|\\tilde{x}[n]|^2\n",
    "$$"
   ]
  },
  {
   "cell_type": "code",
   "execution_count": 22,
   "metadata": {},
   "outputs": [
    {
     "name": "stdout",
     "output_type": "stream",
     "text": [
      "信号x[n]的能量为E=1.595\n"
     ]
    }
   ],
   "source": [
    "# 计算给定序列的能量\n",
    "n = np.linspace(0,3,4) # 定义序号\n",
    "xn = np.sin(2*np.pi*0.2*n)\n",
    "E = np.sum(xn**2)   # 序列的能量\n",
    "print('信号x[n]的能量为E=%.3f' % E)"
   ]
  },
  {
   "cell_type": "code",
   "execution_count": 25,
   "metadata": {},
   "outputs": [
    {
     "name": "stdout",
     "output_type": "stream",
     "text": [
      "信号x[n]的平均功率为P=0.500\n"
     ]
    }
   ],
   "source": [
    "# 计算周期正弦序列的平均功率\n",
    "n = np.linspace(0,4,5) # 定义序号\n",
    "xn = np.sin(2*np.pi*0.2*n) # 周期为5的正弦序列\n",
    "P = np.sum(xn**2)/5   # 序列的能量\n",
    "print('信号x[n]的平均功率为P=%.3f' % P)"
   ]
  },
  {
   "cell_type": "markdown",
   "metadata": {},
   "source": [
    "### 单位样本序列和单位阶跃序列\n",
    "单位样本序列(或者离散时间沖激或单位沖激),用$\\delta[n]$来表示,其定义为\n",
    "$$\n",
    "\\delta[n] = \n",
    "\\begin{cases} \n",
    "1, & \\quad n=0 \\\\\n",
    "0, & \\quad n\\neq 0\n",
    "\\end{cases}\n",
    "$$\n",
    "单位阶跃序列用$\\mu[n]$来表示,定义为\n",
    "$$\n",
    "\\mu[n] = \n",
    "\\begin{cases} \n",
    "1, & \\quad n\\geq 0 \\\\\n",
    "0, & \\quad n< 0\n",
    "\\end{cases}\n",
    "$$"
   ]
  },
  {
   "cell_type": "code",
   "execution_count": 39,
   "metadata": {},
   "outputs": [
    {
     "data": {
      "image/png": "[encoded data removed]",
      "text/plain": [
       "<Figure size 432x288 with 2 Axes>"
      ]
     },
     "metadata": {
      "needs_background": "light"
     },
     "output_type": "display_data"
    }
   ],
   "source": [
    "n = np.arange(-10,21,1)\n",
    "hn = np.concatenate((np.zeros([1,10]),np.ones([1,1]),np.zeros([1,20])),axis=1)#,np.zeros([1,20]))\n",
    "un = np.concatenate((np.zeros([1,10]),np.ones([1,21])),axis=1)\n",
    "\n",
    "plt.subplot(121)\n",
    "plt.stem(n,hn.transpose())\n",
    "plt.xlabel('Time index n')\n",
    "plt.ylabel('Amplitude')\n",
    "plt.title('Unit Sample Sequence')\n",
    "plt.axis([-10,20,0,1.2])\n",
    "\n",
    "plt.subplot(122)\n",
    "plt.stem(n,un.transpose())\n",
    "plt.xlabel('Time index n')\n",
    "plt.title('Unit Step Sequence')\n",
    "plt.axis([-10,20,0,1.2])\n",
    "plt.show()"
   ]
  },
  {
   "cell_type": "markdown",
   "metadata": {},
   "source": [
    "### 指数序列\n",
    "指数序列定义为\n",
    "$$\n",
    "x[n] = A \\alpha ^n \n",
    "$$\n",
    "其中,$A$和$\\alpha$是任意的实数或者复数,表示为\n",
    "$$\n",
    "\\alpha = e^{\\sigma_0+j\\omega_0} \\quad A = |A|e^{j\\phi}\n",
    "$$\n",
    "所以指数序列还可以改写为\n",
    "$$\n",
    "x[n] = |A|e^{\\sigma_0 n+ j(\\omega_0n + \\phi)} = |A|e^{\\sigma_0n}(\\cos(\\omega_0n + \\phi)+j\\sin(\\omega_0n + \\phi))\n",
    "$$\n"
   ]
  },
  {
   "cell_type": "code",
   "execution_count": 52,
   "metadata": {},
   "outputs": [
    {
     "data": {
      "image/png": "[encoded data removed]",
      "text/plain": [
       "<Figure size 432x288 with 2 Axes>"
      ]
     },
     "metadata": {
      "needs_background": "light"
     },
     "output_type": "display_data"
    }
   ],
   "source": [
    "# 产生一个指数序列:sigma=-0.5,w0=0.15,phi=0.2,|A|=10\n",
    "n = np.linspace(0,24,25) # 定义序号\n",
    "w0=0.15\n",
    "phi=0.2\n",
    "A=10\n",
    "sigma=-0.5\n",
    "en = A*np.exp(sigma*n+1j*(2*np.pi*n*w0+phi))\n",
    "\n",
    "plt.subplot(121)\n",
    "plt.stem(n,en.real)\n",
    "plt.xlabel('Time index n')\n",
    "plt.ylabel('Amplitude')\n",
    "plt.title('Real part of exp. seq.')\n",
    "plt.subplot(122)\n",
    "plt.stem(n,en.imag)\n",
    "plt.xlabel('Time index n')\n",
    "plt.title('Image part of exp. seq.')\n",
    "plt.show()"
   ]
  },
  {
   "cell_type": "markdown",
   "metadata": {},
   "source": [
    "### 正弦序列及其周期性\n",
    "正弦序列定义为\n",
    "$$\n",
    "x[n] = |A|\\cos(\\omega_0n + \\phi)\n",
    "$$\n",
    "式子中的$|A|$,$\\omega_0$和$\\phi$分别被称为正弦序列的幅度,角频率和相位.\n",
    "\n",
    "若$\\omega_0N$为$2\\pi$的整数倍,当$\\sigma_0=0$时,复指数序列和正弦序列都是周期序列,此时周期为满足条件的最小的$N$"
   ]
  },
  {
   "cell_type": "code",
   "execution_count": 37,
   "metadata": {},
   "outputs": [
    {
     "data": {
      "image/png": "[encoded data removed]",
      "text/plain": [
       "<Figure size 432x288 with 1 Axes>"
      ]
     },
     "metadata": {
      "needs_background": "light"
     },
     "output_type": "display_data"
    }
   ],
   "source": [
    "# 产生一个周期为12的正弦序列\n",
    "n = np.linspace(0,24,25) # 定义序号\n",
    "xn = np.sin(2*np.pi*n/12)\n",
    "plt.stem(n,xn)\n",
    "plt.xlabel('Time index n')\n",
    "plt.ylabel('Amplitude')\n",
    "plt.title('Sinsoid sequence with Periodicity of 12')\n",
    "plt.show()"
   ]
  },
  {
   "cell_type": "markdown",
   "metadata": {},
   "source": [
    "### 序列的基本运算\n",
    "长度为N的两个序列$x[n]$和$h[n]$的乘积,产生长度为N的序列$y[n]$\n",
    "$$y[n]=x[n] \\cdot h[n]$$\n",
    "长度为N的两个序列$x[n]$和$h[n]$的相加,产生长度为N的序列$y[n]$\n",
    "$$y[n]=x[n] + h[n]$$\n",
    "标量A和长度为N的序列$x[n]$相乘,产生长度为N的序列$y[n]$\n",
    "$$y[n]=A\\cdot x[n]$$\n",
    "\n",
    "无限长序列$x[n]$通过时间翻转,得到无限长序列$y[n]$\n",
    "$$y[n]=x[-n]$$\n",
    "\n",
    "无限长序列$x[n]$通过时间延迟(超前),得到无限长序列$y[n]$\n",
    "$$\n",
    "y[n] = x[n-m]\n",
    "$$\n",
    "长度为N的序列$x[n]$,可以被长度为M的序列$g[n]$扩充,得到长度为$N+M$的序列$y[n]$\n",
    "$$\n",
    "\\{y[n]\\} = \\{\\{x[n]\\},\\{g[n]\\}\\}\n",
    "$$\n",
    "\n",
    "#### 例子: 信号平滑\n",
    "数字信号处理应用的一个常见的例子就是从被加性噪声污染的信号中移除噪声.假定信号$s[n]$被噪声$d[n]$污染,得到了一个含有噪声的信号\n",
    "$$\n",
    "x[n] = s[n] +d[n]\n",
    "$$\n",
    "我们的目的是对$x[n]$进行计算,产生一个合理的逼近$s[n]$的信号$y[n]$.因此,对时刻$n$的样本附近的样本求平均,产生输出信号是一种简单有效的方法,例如三点滑动平均\n",
    "$$\n",
    "y[n] = \\frac{1}{3}(x[n-1]+x[n]+x[n+1])\n",
    "$$\n"
   ]
  },
  {
   "cell_type": "code",
   "execution_count": 72,
   "metadata": {},
   "outputs": [
    {
     "data": {
      "image/png": "[encoded data removed]",
      "text/plain": [
       "<Figure size 360x360 with 2 Axes>"
      ]
     },
     "metadata": {
      "needs_background": "light"
     },
     "output_type": "display_data"
    }
   ],
   "source": [
    "# 通过滑动平均平滑信号\n",
    "R = 51\n",
    "d = .8*np.random.normal(0,1,[R,])\n",
    "n = np.arange(0,R,1)\n",
    "\n",
    "s = 2*n*(0.9**n)\n",
    "x = s+d\n",
    "\n",
    "x1 = np.concatenate((np.zeros([2,]),x),axis=0)\n",
    "x2 = np.concatenate((np.zeros([1,]),x,np.zeros([1,])),axis=0)\n",
    "x3 = np.concatenate((x,np.zeros([2,])),axis=0)\n",
    "# Average\n",
    "y1 = (x1+x2+x3)/3\n",
    "y = y1[1:-1]\n",
    "\n",
    "# 绘制结果\n",
    "fig = plt.figure(figsize=(5,5))\n",
    "ax = fig.add_subplot(211)\n",
    "ax.plot(n,d,'r-',label='d[n]')\n",
    "ax.plot(n,s,'g--',label='s[n]')\n",
    "ax.plot(n,x,'b-',label='x[n]')\n",
    "ax.axis([0,50,-2,9])\n",
    "plt.legend(loc='upper right')\n",
    "plt.ylabel('Amplitude')\n",
    "\n",
    "ax = fig.add_subplot(212)\n",
    "ax.plot(n,y,'r-',label='y[n]')\n",
    "ax.plot(n,s,'g--',label='s[n]')\n",
    "ax.axis([0,50,-2,9])\n",
    "plt.legend(loc='upper right')\n",
    "plt.xlabel('Time index (n)')\n",
    "plt.ylabel('Amplitude')\n",
    "\n",
    "plt.show()"
   ]
  },
  {
   "cell_type": "markdown",
   "metadata": {},
   "source": [
    "## 用到的Python命令\n",
    "### 运算符和特殊符号\n",
    "\n",
    "### 基本矩阵和矩阵控制\n",
    "\n",
    "### 基本函数\n",
    "\n",
    "### 数据分析\n",
    "\n",
    "### 二维图形\n",
    "\n",
    "### 通用图形函数\n",
    "\n"
   ]
  },
  {
   "cell_type": "code",
   "execution_count": null,
   "metadata": {},
   "outputs": [],
   "source": []
  },
  {
   "cell_type": "code",
   "execution_count": null,
   "metadata": {},
   "outputs": [],
   "source": []
  },
  {
   "cell_type": "code",
   "execution_count": null,
   "metadata": {},
   "outputs": [],
   "source": []
  },
  {
   "cell_type": "code",
   "execution_count": null,
   "metadata": {},
   "outputs": [],
   "source": []
  }
 ],
 "metadata": {
  "kernelspec": {
   "display_name": "Python 3",
   "language": "python",
   "name": "python3"
  },
  "language_info": {
   "codemirror_mode": {
    "name": "ipython",
    "version": 3
   },
   "file_extension": ".py",
   "mimetype": "text/x-python",
   "name": "python",
   "nbconvert_exporter": "python",
   "pygments_lexer": "ipython3",
   "version": "3.6.7"
  }
 },
 "nbformat": 4,
 "nbformat_minor": 2
}
